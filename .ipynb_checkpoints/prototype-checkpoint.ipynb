{
 "cells": [
  {
   "cell_type": "markdown",
   "id": "5459122a-7fab-47e2-91b8-f624b7eb32ec",
   "metadata": {},
   "source": [
    "# Prototype new concepts before introduction into test and src"
   ]
  },
  {
   "cell_type": "code",
   "execution_count": 1,
   "id": "aa8b083e-0353-47d5-96c3-cb745a5b8394",
   "metadata": {},
   "outputs": [
    {
     "data": {
      "text/plain": [
       "getAA (generic function with 1 method)"
      ]
     },
     "execution_count": 1,
     "metadata": {},
     "output_type": "execute_result"
    }
   ],
   "source": [
    "#Representation of an Amino Acid\n",
    "struct AA \n",
    "    aa::Char\n",
    "    mass::Number\n",
    "end\n",
    "\n",
    "#Constructor \n",
    "function AA(aa::Char)\n",
    "    AA_to_mass =\n",
    "    Dict(\n",
    "            'A' => 71.03711,\n",
    "            'R' => 156.10111,\n",
    "            'N' => 114.04293,\n",
    "            'D' => 115.02694,\n",
    "            'C' => 103.00919,\n",
    "            'E' => 129.04259,\n",
    "            'Q' => 128.05858,\n",
    "            'G' => 57.02146,\n",
    "            'H' => 137.05891,\n",
    "            'I' => 113.08406,\n",
    "            'L' => 113.08406,\n",
    "            'K' => 128.09496,\n",
    "            'M' => 131.04049,\n",
    "            'F' => 147.06841,\n",
    "            'P' => 97.05276,\n",
    "            'S' => 87.03203,\n",
    "            'T' => 101.04768,\n",
    "            'W' => 186.07931,\n",
    "            'Y' => 163.06333,\n",
    "            'V' => 99.06841,\n",
    "            'U' => 150.95363,\n",
    "            'O' => 237.14773\n",
    "    )\n",
    "    try\n",
    "        AA(aa, AA_to_mass[aa])\n",
    "    catch\n",
    "        throw(ErrorException(\"The character $aa cannot be interpreted as an amino acid!\"))\n",
    "    end\n",
    "end\n",
    "\n",
    "#We want to ignore any mass argument supplied by the user. \n",
    "AA(aa::Char, mass) = AA(aa::Char)\n",
    "\n",
    "getMass(aa::AA) = aa.mass\n",
    "getAA(aa::AA) = aa.aa"
   ]
  },
  {
   "cell_type": "code",
   "execution_count": 2,
   "id": "78ff2ced-d840-4ec7-a274-c1a35fd0fd0c",
   "metadata": {},
   "outputs": [],
   "source": [
    "#export(AA)"
   ]
  },
  {
   "cell_type": "code",
   "execution_count": 1,
   "id": "1c9685e8-67e6-4a54-b90a-2d8d5c9f0a0a",
   "metadata": {},
   "outputs": [
    {
     "data": {
      "text/plain": [
       "Dict{String, Float32} with 1 entry:\n",
       "  \"Carb\" => 57.0215"
      ]
     },
     "execution_count": 1,
     "metadata": {},
     "output_type": "execute_result"
    }
   ],
   "source": [
    "const default_mods = \n",
    "Dict{String, Float32}(\n",
    "    \"Carb\" => 57.021464\n",
    ")"
   ]
  },
  {
   "cell_type": "code",
   "execution_count": 13,
   "id": "267f21fc-1351-48f7-97fc-030f5f121038",
   "metadata": {},
   "outputs": [
    {
     "data": {
      "text/plain": [
       "getAA (generic function with 1 method)"
      ]
     },
     "execution_count": 13,
     "metadata": {},
     "output_type": "execute_result"
    }
   ],
   "source": [
    "struct AA \n",
    "    aa::Char\n",
    "    mass::Float32\n",
    "    #Constructor for amino acid. Restric inputs\n",
    "    #to valid amino acid symbols and assign correct mass\n",
    "    function AA(aa::Char)\n",
    "        m = try\n",
    "            AA_to_mass[aa]\n",
    "        catch\n",
    "            throw(ErrorException(\"The character $aa cannot be interpreted as an amino acid!\"))\n",
    "        end\n",
    "        return new(aa, m)\n",
    "    end\n",
    "end\n",
    "\n",
    "#Getter methods\n",
    "getMass(aa::AA) = aa.mass\n",
    "getAA(aa::AA) = aa.aa"
   ]
  },
  {
   "cell_type": "code",
   "execution_count": 14,
   "id": "143eddac-6292-44af-bef8-b2d772de1a98",
   "metadata": {},
   "outputs": [
    {
     "ename": "LoadError",
     "evalue": "UndefVarError: aa not defined",
     "output_type": "error",
     "traceback": [
      "UndefVarError: aa not defined",
      "",
      "Stacktrace:",
      " [1] AA(AA::Char)",
      "   @ Main ./In[13]:10",
      " [2] top-level scope",
      "   @ In[14]:1"
     ]
    }
   ],
   "source": [
    "AA('A')"
   ]
  },
  {
   "cell_type": "code",
   "execution_count": 7,
   "id": "6d24f088-f4da-4dd2-ad87-a95cc5d7cb81",
   "metadata": {},
   "outputs": [],
   "source": [
    "struct Mod\n",
    "    name::String\n",
    "    mass::Float32\n",
    "\n",
    "    function Mod(mod::String, mods_dict::Dict{String, Float32})\n",
    "        m = match(r\"^[A-Z]\\[(.*)\\]$\", mod)\n",
    "        print(m)\n",
    "        try\n",
    "            if m == nothing\n",
    "                nothing\n",
    "            elseif startswith(m[1], \"+\")\n",
    "                new(\n",
    "                    mod,                    #\"K[+8.014199]\"\n",
    "                    parse(Float32, m[1][2:end]) #8.014199\n",
    "                    )\n",
    "            else \n",
    "                new(\n",
    "                    mod,                #getAA(\"C[Carb]\")\n",
    "                    mods_dict[m[1]]         #57.021464\n",
    "                    )\n",
    "            end\n",
    "        catch\n",
    "            throw(ErrorException(\"$m could not be parsed as given\"))\n",
    "        end \n",
    "    end\n",
    "end"
   ]
  },
  {
   "cell_type": "code",
   "execution_count": 10,
   "id": "b1520c73-a589-4d7c-b7d5-bb773c912938",
   "metadata": {},
   "outputs": [
    {
     "data": {
      "text/plain": [
       "\"A_8.0\""
      ]
     },
     "execution_count": 10,
     "metadata": {},
     "output_type": "execute_result"
    }
   ],
   "source": [
    "join([\"A\",\"_\",string(8.0)])"
   ]
  },
  {
   "cell_type": "code",
   "execution_count": 8,
   "id": "0ab4b833-54c4-47cd-b65f-586deb555e11",
   "metadata": {},
   "outputs": [
    {
     "name": "stdout",
     "output_type": "stream",
     "text": [
      "RegexMatch(\"C[Carb]\", 1=\"Carb\")"
     ]
    },
    {
     "data": {
      "text/plain": [
       "Mod(\"C[Carb]\", 57.021465f0)"
      ]
     },
     "execution_count": 8,
     "metadata": {},
     "output_type": "execute_result"
    }
   ],
   "source": [
    "Mod(\"C[Carb]\", default_mods)"
   ]
  },
  {
   "cell_type": "code",
   "execution_count": 3,
   "id": "a29710e9-1a47-443e-920e-e78a69c35269",
   "metadata": {},
   "outputs": [
    {
     "data": {
      "text/plain": [
       "Residue"
      ]
     },
     "execution_count": 3,
     "metadata": {},
     "output_type": "execute_result"
    }
   ],
   "source": [
    "struct Residue\n",
    "    amino_acid::AA\n",
    "    mass::Float32\n",
    "    mod::String\n",
    "end\n",
    "\n",
    "function Residue(aa::Char)\n",
    "    AA_ = AA(aa)\n",
    "    Residue(AA_, getMass(AA_), string(aa))\n",
    "end"
   ]
  },
  {
   "cell_type": "code",
   "execution_count": 38,
   "id": "1e6bad28-c233-4b39-9944-7594d0a2cfab",
   "metadata": {},
   "outputs": [
    {
     "data": {
      "text/plain": [
       "r\"^[A-Z]\\[(.*)\\]$\""
      ]
     },
     "execution_count": 38,
     "metadata": {},
     "output_type": "execute_result"
    }
   ],
   "source": [
    "regext =  r\"^[A-Z]\\[(.*)\\]$\""
   ]
  },
  {
   "cell_type": "code",
   "execution_count": 60,
   "id": "d4c7e782-0519-4e01-b6e5-b6a2e7682391",
   "metadata": {},
   "outputs": [
    {
     "data": {
      "text/plain": [
       "RegexMatch(\"K[+8.014199]\", 1=\"+8.014199\")"
      ]
     },
     "execution_count": 60,
     "metadata": {},
     "output_type": "execute_result"
    }
   ],
   "source": [
    "m = match(regext, \"L\")\n",
    "mk = match(regext, \"K[+8.014199]\")\n",
    "mc = match(regext, \"C[carb]\")\n",
    "mk = match(regext, \"K[+8.014199]\")"
   ]
  },
  {
   "cell_type": "code",
   "execution_count": 63,
   "id": "e8ecd004-2c18-4d96-96e5-5c55ce44faee",
   "metadata": {},
   "outputs": [
    {
     "data": {
      "text/plain": [
       "true"
      ]
     },
     "execution_count": 63,
     "metadata": {},
     "output_type": "execute_result"
    }
   ],
   "source": [
    "m==nothing"
   ]
  },
  {
   "cell_type": "code",
   "execution_count": 59,
   "id": "a87dd953-36df-43da-9235-78cdbdde1423",
   "metadata": {},
   "outputs": [
    {
     "data": {
      "text/plain": [
       "RegexMatch(\"K[+8.014199]\", 1=\"+8.014199\")"
      ]
     },
     "execution_count": 59,
     "metadata": {},
     "output_type": "execute_result"
    }
   ],
   "source": [
    "mk"
   ]
  },
  {
   "cell_type": "code",
   "execution_count": 56,
   "id": "6bc589d6-85ac-4f3a-b4c7-ee2e9635aaf5",
   "metadata": {},
   "outputs": [
    {
     "data": {
      "text/plain": [
       "8.014199f0"
      ]
     },
     "execution_count": 56,
     "metadata": {},
     "output_type": "execute_result"
    }
   ],
   "source": [
    "parse(Float32, mk[1][2:end])"
   ]
  },
  {
   "cell_type": "code",
   "execution_count": 41,
   "id": "56a8f172-c5e3-499c-a282-d0e3bf32fdbc",
   "metadata": {},
   "outputs": [
    {
     "data": {
      "text/plain": [
       "false"
      ]
     },
     "execution_count": 41,
     "metadata": {},
     "output_type": "execute_result"
    }
   ],
   "source": [
    "startswith(mc[1], \"+\")"
   ]
  },
  {
   "cell_type": "code",
   "execution_count": 42,
   "id": "da8f1c81-df60-426d-8bba-319d3deea5ab",
   "metadata": {},
   "outputs": [
    {
     "data": {
      "text/plain": [
       "true"
      ]
     },
     "execution_count": 42,
     "metadata": {},
     "output_type": "execute_result"
    }
   ],
   "source": [
    "startswith(mk[1], \"+\")"
   ]
  },
  {
   "cell_type": "code",
   "execution_count": 8,
   "id": "f9563196-c5dc-462f-b267-5e3d365c7e24",
   "metadata": {},
   "outputs": [
    {
     "data": {
      "text/plain": [
       "\"[tent\""
      ]
     },
     "execution_count": 8,
     "metadata": {},
     "output_type": "execute_result"
    }
   ],
   "source": [
    "join([\"[\",\"ten\", \"t\"])"
   ]
  },
  {
   "cell_type": "code",
   "execution_count": 4,
   "id": "995b3843-5ddb-48e7-8b35-6a84d519cf19",
   "metadata": {},
   "outputs": [
    {
     "data": {
      "text/plain": [
       "Residue(AA('A', 71.03711), 71.03711f0, \"A\")"
      ]
     },
     "execution_count": 4,
     "metadata": {},
     "output_type": "execute_result"
    }
   ],
   "source": [
    "Residue('A')"
   ]
  },
  {
   "cell_type": "code",
   "execution_count": 5,
   "id": "d49a3388-d95f-4f29-9794-6fbbfe63c5f1",
   "metadata": {},
   "outputs": [
    {
     "data": {
      "text/plain": [
       "AA('A', 71.03711)"
      ]
     },
     "execution_count": 5,
     "metadata": {},
     "output_type": "execute_result"
    }
   ],
   "source": [
    "test = AA('A')"
   ]
  },
  {
   "cell_type": "code",
   "execution_count": 3,
   "id": "d82f4279-227d-4f7c-a7f0-7d29282f67d6",
   "metadata": {},
   "outputs": [
    {
     "data": {
      "text/plain": [
       "10.0"
      ]
     },
     "execution_count": 3,
     "metadata": {},
     "output_type": "execute_result"
    }
   ],
   "source": [
    "getMass(test)"
   ]
  },
  {
   "cell_type": "code",
   "execution_count": 4,
   "id": "ea0c5aae-fba9-48bb-9899-c4e6949d25de",
   "metadata": {},
   "outputs": [
    {
     "ename": "LoadError",
     "evalue": "UndefVarError: mass not defined",
     "output_type": "error",
     "traceback": [
      "UndefVarError: mass not defined",
      "",
      "Stacktrace:",
      " [1] AA(aa::Char)",
      "   @ Main ./In[1]:37",
      " [2] top-level scope",
      "   @ In[4]:1"
     ]
    }
   ],
   "source": [
    "test = AA('A')"
   ]
  },
  {
   "cell_type": "code",
   "execution_count": null,
   "id": "da14f8f1-ec24-42ad-8927-6c3ca6057862",
   "metadata": {},
   "outputs": [],
   "source": [
    "test.mass"
   ]
  },
  {
   "cell_type": "code",
   "execution_count": null,
   "id": "c62c9a98-cae9-4a8d-8287-f797a3a00340",
   "metadata": {},
   "outputs": [],
   "source": []
  }
 ],
 "metadata": {
  "kernelspec": {
   "display_name": "Julia 1.8.5",
   "language": "julia",
   "name": "julia-1.8"
  },
  "language_info": {
   "file_extension": ".jl",
   "mimetype": "application/julia",
   "name": "julia",
   "version": "1.8.5"
  }
 },
 "nbformat": 4,
 "nbformat_minor": 5
}
