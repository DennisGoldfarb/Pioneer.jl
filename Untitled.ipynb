{
 "cells": [
  {
   "cell_type": "code",
   "execution_count": null,
   "id": "c60f7c82-0a22-4904-8205-bb21e5926d27",
   "metadata": {
    "tags": []
   },
   "outputs": [],
   "source": [
    ";julia --threads 9 ./src/Routines/LibrarySearch/routine.jl ./data/example_config/LibrarySearch_101823-Copy1.json /Users/n.t.wamsley/TEST_DATA/mzXML/ /Users/n.t.wamsley/RIS_temp/BUILD_PROSIT_LIBS/nOf3_indy4b3_ally3b2 -s true -e TEST_101823_01\n"
   ]
  },
  {
   "cell_type": "code",
   "execution_count": null,
   "id": "eae7b3ee-67a6-4974-a778-2b345bf1c58f",
   "metadata": {
    "tags": []
   },
   "outputs": [],
   "source": [
    ";julia --threads 9 ./src/Routines/LibrarySearch/routine.jl ./data/example_config/LibrarySearch_101823-Copy2.json /Users/n.t.wamsley/TEST_DATA/mzXML/ /Users/n.t.wamsley/RIS_temp/BUILD_PROSIT_LIBS/nOf3_indy4b3_ally3b2 -s true -e TEST_101823_02\n"
   ]
  },
  {
   "cell_type": "code",
   "execution_count": null,
   "id": "8c4a335b-c7c6-4f20-bae8-ad04d4561e90",
   "metadata": {
    "tags": []
   },
   "outputs": [],
   "source": [
    "using JLD2, DataFrames"
   ]
  },
  {
   "cell_type": "code",
   "execution_count": null,
   "id": "eef5101e-d5d0-479b-bc53-006bc8f9fd8d",
   "metadata": {
    "tags": []
   },
   "outputs": [],
   "source": [
    "best_psms_unscored = load(\"/Users/n.t.wamsley/TEST_DATA/mzXML/TEST_101823_02/Search/RESULTS/best_psms_unscored.jld2\")"
   ]
  },
  {
   "cell_type": "code",
   "execution_count": null,
   "id": "21e2579b-419d-4da0-bc54-346aed5b4b63",
   "metadata": {
    "tags": []
   },
   "outputs": [],
   "source": [
    "#best_psms_unscored = best_psms_unscored[\"best_psms\"]"
   ]
  },
  {
   "cell_type": "code",
   "execution_count": null,
   "id": "a60df4bb-9e9b-4858-8980-04dcd6256427",
   "metadata": {
    "tags": []
   },
   "outputs": [],
   "source": [
    "#=for col in names(best_psms_unscored)\n",
    "    if eltype(best_psms_unscored[!,col]) == String\n",
    "        continue\n",
    "    end\n",
    "    println(\"$col is nan \", any(isnan.(skipmissing(best_psms_unscored[!,col]))))\n",
    "    println(\"$col is inf \", any(isnan.(skipmissing(best_psms_unscored[!,col]))))\n",
    "end=#"
   ]
  },
  {
   "cell_type": "code",
   "execution_count": null,
   "id": "8cde9d94-2f9a-441e-aeee-6fea8cb4c620",
   "metadata": {
    "tags": []
   },
   "outputs": [],
   "source": [
    "using Random, XGBoost"
   ]
  },
  {
   "cell_type": "code",
   "execution_count": null,
   "id": "60d28d6e-adcd-4862-8eab-42d854fc94a7",
   "metadata": {
    "tags": []
   },
   "outputs": [],
   "source": [
    "features = [ :FWHM,\n",
    "    :FWHM_01,\n",
    "    :GOF,\n",
    "    :H,\n",
    "    :Mox,\n",
    "    :RT,\n",
    "    :RT_error,\n",
    "    :b_ladder,\n",
    "    :base_width_min,\n",
    "    :best_rank,\n",
    "    :charge,\n",
    "    :city_block,\n",
    "    :data_points,\n",
    "    :entropy_sim,\n",
    "    :err_norm_log2,\n",
    "    :error,\n",
    "    :hyperscore,\n",
    "    :intensity_explained,\n",
    "    :ions_sum,\n",
    "    :log_sum_of_weights,\n",
    "    :matched_ratio,\n",
    "    :mean_log_entropy,\n",
    "    :mean_log_probability,\n",
    "    :mean_log_spectral_contrast,\n",
    "    :mean_matched_ratio,\n",
    "    :mean_scribe_score,\n",
    "    :missed_cleavage,\n",
    "    :ms1_ms2_diff,\n",
    "    :peak_area,\n",
    "    :peak_area_ms1,\n",
    "    :points_above_FWHM,\n",
    "    :points_above_FWHM_01,\n",
    "    :poisson,\n",
    "    :prec_mz,\n",
    "    :scribe_score,\n",
    "    :sequence_length,\n",
    "    :spectral_contrast,\n",
    "    :spectrum_peaks,\n",
    "    :topn,\n",
    "    :total_ions,\n",
    "    :weight,\n",
    "    :y_ladder,\n",
    "    :ρ,\n",
    "\n",
    "    :log2_base_peak_intensity,\n",
    "    :TIC,\n",
    "    :adjusted_intensity_explained\n",
    "    ]\n",
    "\n",
    "\n",
    "xgboost_time = @timed bst = rankPSMs!(best_psms_unscored, \n",
    "                        features,\n",
    "                        colsample_bytree = 1.0, \n",
    "                        min_child_weight = 5, \n",
    "                        gamma = 1, \n",
    "                        subsample = 0.5, \n",
    "                        n_folds = 2, \n",
    "                        num_round = 200, \n",
    "                        max_depth = 10, \n",
    "                        eta = 0.05, \n",
    "                        #eta = 0.0175,\n",
    "                        train_fraction = 2.0/9.0,\n",
    "                        n_iters = 2);"
   ]
  },
  {
   "cell_type": "code",
   "execution_count": null,
   "id": "cd9ef0ed-8a88-4b3a-a9a3-26e9ded88d0f",
   "metadata": {
    "tags": []
   },
   "outputs": [],
   "source": [
    ";julia --threads 9 ./src/Routines/LibrarySearch/routine.jl ./data/example_config/LibrarySearch_101823-Copy3.json /Users/n.t.wamsley/TEST_DATA/mzXML/ /Users/n.t.wamsley/RIS_temp/BUILD_PROSIT_LIBS/nOf3_indy4b3_ally3b2 -s true -e TEST_101823_03\n"
   ]
  },
  {
   "cell_type": "code",
   "execution_count": null,
   "id": "ac35912a-a589-409d-9054-db18ed80c6cd",
   "metadata": {
    "tags": []
   },
   "outputs": [],
   "source": [
    ";julia --threads 9 ./src/Routines/LibrarySearch/routine.jl ./data/example_config/LibrarySearch_101823-Copy4.json /Users/n.t.wamsley/TEST_DATA/mzXML/ /Users/n.t.wamsley/RIS_temp/BUILD_PROSIT_LIBS/nOf3_indy4b3_ally3b2 -s true -e TEST_101823_04\n"
   ]
  },
  {
   "cell_type": "code",
   "execution_count": null,
   "id": "c43dc4c7-1754-41d0-8fe9-5261b6f0bd2d",
   "metadata": {
    "tags": []
   },
   "outputs": [],
   "source": [
    ";julia --threads 9 ./src/Routines/LibrarySearch/routine.jl ./data/example_config/LibrarySearch_101823-Copy5.json /Users/n.t.wamsley/TEST_DATA/mzXML/ /Users/n.t.wamsley/RIS_temp/BUILD_PROSIT_LIBS/nOf3_indy4b3_ally3b2 -s true -e TEST_101823_05\n"
   ]
  },
  {
   "cell_type": "code",
   "execution_count": null,
   "id": "a9b01bca-c64f-4958-8465-dbcd1f9ee7fd",
   "metadata": {},
   "outputs": [],
   "source": [
    ";julia --threads 9 ./src/Routines/LibrarySearch/routine.jl ./data/example_config/LibrarySearch_101823-Copy6.json /Users/n.t.wamsley/TEST_DATA/mzXML/ /Users/n.t.wamsley/RIS_temp/BUILD_PROSIT_LIBS/nOf3_indy4b3_ally3b2 -s true -e TEST_101823_06\n"
   ]
  },
  {
   "cell_type": "code",
   "execution_count": null,
   "id": "c33e2ccc-f8a3-4818-bfb8-999c13d3d56b",
   "metadata": {
    "tags": []
   },
   "outputs": [],
   "source": [
    ";julia --threads 9 ./src/Routines/LibrarySearch/routine.jl ./data/example_config/LibrarySearch_101823-Copy7.json /Users/n.t.wamsley/TEST_DATA/mzXML/ /Users/n.t.wamsley/RIS_temp/BUILD_PROSIT_LIBS/nOf3_indy4b3_ally3b2 -s true -e TEST_101823_07\n"
   ]
  },
  {
   "cell_type": "code",
   "execution_count": null,
   "id": "6a3e238d-7dcd-49af-8135-6e474d503304",
   "metadata": {
    "tags": []
   },
   "outputs": [],
   "source": [
    ";julia --threads 9 ./src/Routines/LibrarySearch/routine.jl ./data/example_config/LibrarySearch_101823-Copy8.json /Users/n.t.wamsley/TEST_DATA/mzXML/ /Users/n.t.wamsley/RIS_temp/BUILD_PROSIT_LIBS/nOf3_indy4b3_ally3b2 -s true -e TEST_101823_08\n"
   ]
  },
  {
   "cell_type": "code",
   "execution_count": null,
   "id": "cf88eab6-e8fd-4d8e-a8e4-ac9223140a7b",
   "metadata": {},
   "outputs": [],
   "source": []
  }
 ],
 "metadata": {
  "kernelspec": {
   "display_name": "Julia 1.9.2",
   "language": "julia",
   "name": "julia-1.9"
  },
  "language_info": {
   "file_extension": ".jl",
   "mimetype": "application/julia",
   "name": "julia",
   "version": "1.9.2"
  }
 },
 "nbformat": 4,
 "nbformat_minor": 5
}
