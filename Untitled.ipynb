{
 "cells": [
  {
   "cell_type": "code",
   "execution_count": null,
   "id": "c60f7c82-0a22-4904-8205-bb21e5926d27",
   "metadata": {
    "tags": []
   },
   "outputs": [],
   "source": [
    ";julia --threads 9 ./src/Routines/LibrarySearch/routine.jl ./data/example_config/LibrarySearch_101823-Copy1.json /Users/n.t.wamsley/TEST_DATA/mzXML/ /Users/n.t.wamsley/RIS_temp/BUILD_PROSIT_LIBS/nOf3_indy4b3_ally3b2 -s true -e TEST_101823_01\n"
   ]
  },
  {
   "cell_type": "code",
   "execution_count": null,
   "id": "eae7b3ee-67a6-4974-a778-2b345bf1c58f",
   "metadata": {
    "tags": []
   },
   "outputs": [],
   "source": [
    ";julia --threads 9 ./src/Routines/LibrarySearch/routine.jl ./data/example_config/LibrarySearch_101823-Copy2.json /Users/n.t.wamsley/TEST_DATA/mzXML/ /Users/n.t.wamsley/RIS_temp/BUILD_PROSIT_LIBS/nOf3_indy4b3_ally3b2 -s true -e TEST_101823_02\n"
   ]
  },
  {
   "cell_type": "code",
   "execution_count": null,
   "id": "8c4a335b-c7c6-4f20-bae8-ad04d4561e90",
   "metadata": {
    "tags": []
   },
   "outputs": [],
   "source": [
    "using JLD2, DataFrames"
   ]
  },
  {
   "cell_type": "code",
   "execution_count": null,
   "id": "eef5101e-d5d0-479b-bc53-006bc8f9fd8d",
   "metadata": {
    "tags": []
   },
   "outputs": [],
   "source": [
    "best_psms_unscored = load(\"/Users/n.t.wamsley/TEST_DATA/mzXML/TEST_101823_02/Search/RESULTS/best_psms_unscored.jld2\")"
   ]
  },
  {
   "cell_type": "code",
   "execution_count": null,
   "id": "21e2579b-419d-4da0-bc54-346aed5b4b63",
   "metadata": {
    "tags": []
   },
   "outputs": [],
   "source": [
    "#best_psms_unscored = best_psms_unscored[\"best_psms\"]"
   ]
  },
  {
   "cell_type": "code",
   "execution_count": null,
   "id": "a60df4bb-9e9b-4858-8980-04dcd6256427",
   "metadata": {
    "tags": []
   },
   "outputs": [],
   "source": [
    "#=for col in names(best_psms_unscored)\n",
    "    if eltype(best_psms_unscored[!,col]) == String\n",
    "        continue\n",
    "    end\n",
    "    println(\"$col is nan \", any(isnan.(skipmissing(best_psms_unscored[!,col]))))\n",
    "    println(\"$col is inf \", any(isnan.(skipmissing(best_psms_unscored[!,col]))))\n",
    "end=#"
   ]
  },
  {
   "cell_type": "code",
   "execution_count": null,
   "id": "8cde9d94-2f9a-441e-aeee-6fea8cb4c620",
   "metadata": {
    "tags": []
   },
   "outputs": [],
   "source": [
    "using Random, XGBoost"
   ]
  },
  {
   "cell_type": "code",
   "execution_count": null,
   "id": "60d28d6e-adcd-4862-8eab-42d854fc94a7",
   "metadata": {
    "tags": []
   },
   "outputs": [],
   "source": [
    "features = [ :FWHM,\n",
    "    :FWHM_01,\n",
    "    :GOF,\n",
    "    :H,\n",
    "    :Mox,\n",
    "    :RT,\n",
    "    :RT_error,\n",
    "    :b_ladder,\n",
    "    :base_width_min,\n",
    "    :best_rank,\n",
    "    :charge,\n",
    "    :city_block,\n",
    "    :data_points,\n",
    "    :entropy_sim,\n",
    "    :err_norm_log2,\n",
    "    :error,\n",
    "    :hyperscore,\n",
    "    :intensity_explained,\n",
    "    :ions_sum,\n",
    "    :log_sum_of_weights,\n",
    "    :matched_ratio,\n",
    "    :mean_log_entropy,\n",
    "    :mean_log_probability,\n",
    "    :mean_log_spectral_contrast,\n",
    "    :mean_matched_ratio,\n",
    "    :mean_scribe_score,\n",
    "    :missed_cleavage,\n",
    "    :ms1_ms2_diff,\n",
    "    :peak_area,\n",
    "    :peak_area_ms1,\n",
    "    :points_above_FWHM,\n",
    "    :points_above_FWHM_01,\n",
    "    :poisson,\n",
    "    :prec_mz,\n",
    "    :scribe_score,\n",
    "    :sequence_length,\n",
    "    :spectral_contrast,\n",
    "    :spectrum_peaks,\n",
    "    :topn,\n",
    "    :total_ions,\n",
    "    :weight,\n",
    "    :y_ladder,\n",
    "    :ρ,\n",
    "\n",
    "    :log2_base_peak_intensity,\n",
    "    :TIC,\n",
    "    :adjusted_intensity_explained\n",
    "    ]\n",
    "\n",
    "\n",
    "xgboost_time = @timed bst = rankPSMs!(best_psms_unscored, \n",
    "                        features,\n",
    "                        colsample_bytree = 1.0, \n",
    "                        min_child_weight = 5, \n",
    "                        gamma = 1, \n",
    "                        subsample = 0.5, \n",
    "                        n_folds = 2, \n",
    "                        num_round = 200, \n",
    "                        max_depth = 10, \n",
    "                        eta = 0.05, \n",
    "                        #eta = 0.0175,\n",
    "                        train_fraction = 2.0/9.0,\n",
    "                        n_iters = 2);"
   ]
  },
  {
   "cell_type": "code",
   "execution_count": null,
   "id": "cd9ef0ed-8a88-4b3a-a9a3-26e9ded88d0f",
   "metadata": {
    "tags": []
   },
   "outputs": [],
   "source": [
    ";julia --threads 9 ./src/Routines/LibrarySearch/routine.jl ./data/example_config/LibrarySearch_101823-Copy3.json /Users/n.t.wamsley/TEST_DATA/mzXML/ /Users/n.t.wamsley/RIS_temp/BUILD_PROSIT_LIBS/nOf3_indy4b3_ally3b2 -s true -e TEST_101823_03\n"
   ]
  },
  {
   "cell_type": "code",
   "execution_count": null,
   "id": "ac35912a-a589-409d-9054-db18ed80c6cd",
   "metadata": {
    "tags": []
   },
   "outputs": [],
   "source": [
    ";julia --threads 9 ./src/Routines/LibrarySearch/routine.jl ./data/example_config/LibrarySearch_101823-Copy4.json /Users/n.t.wamsley/TEST_DATA/mzXML/ /Users/n.t.wamsley/RIS_temp/BUILD_PROSIT_LIBS/nOf3_indy4b3_ally3b2 -s true -e TEST_101823_04\n"
   ]
  },
  {
   "cell_type": "code",
   "execution_count": null,
   "id": "c43dc4c7-1754-41d0-8fe9-5261b6f0bd2d",
   "metadata": {
    "tags": []
   },
   "outputs": [],
   "source": [
    ";julia --threads 9 ./src/Routines/LibrarySearch/routine.jl ./data/example_config/LibrarySearch_101823-Copy5.json /Users/n.t.wamsley/TEST_DATA/mzXML/ /Users/n.t.wamsley/RIS_temp/BUILD_PROSIT_LIBS/nOf3_indy4b3_ally3b2 -s true -e TEST_101823_05\n"
   ]
  },
  {
   "cell_type": "code",
   "execution_count": null,
   "id": "a9b01bca-c64f-4958-8465-dbcd1f9ee7fd",
   "metadata": {},
   "outputs": [],
   "source": [
    ";julia --threads 9 ./src/Routines/LibrarySearch/routine.jl ./data/example_config/LibrarySearch_101823-Copy6.json /Users/n.t.wamsley/TEST_DATA/mzXML/ /Users/n.t.wamsley/RIS_temp/BUILD_PROSIT_LIBS/nOf3_indy4b3_ally3b2 -s true -e TEST_101823_06\n"
   ]
  },
  {
   "cell_type": "code",
   "execution_count": null,
   "id": "c33e2ccc-f8a3-4818-bfb8-999c13d3d56b",
   "metadata": {
    "tags": []
   },
   "outputs": [
    {
     "name": "stdout",
     "output_type": "stream",
     "text": [
      "Importing Libraries...\n",
      "Parsing Arguments...\n",
      "ARGS Dict{String, Any}(\"params_json\" => \"./data/example_config/LibrarySearch_101823-Copy7.json\", \"experiment_name\" => \"TEST_101823_07\", \"spec_lib_dir\" => \"/Users/n.t.wamsley/RIS_temp/BUILD_PROSIT_LIBS/nOf3_indy4b3_ally3b2\", \"data_dir\" => \"/Users/n.t.wamsley/TEST_DATA/mzXML/\", \"print_params\" => \"true\")\n",
      ":b_min_ind => 2\n",
      ":y_min_ind => 3\n",
      ":expected_matches => 1000000\n",
      ":frag_ppm_err => 0.0\n",
      ":frag_tol_quantile => 0.975f0\n",
      ":frag_tol_presearch => 40.0\n",
      ":intensity_filter_fraction => 0.01f0\n",
      ":LsqFit_tol => 0.001\n",
      ":Lsq_max_iter => 100\n",
      ":nnls_max_iter => 1000\n",
      ":max_peaks => false\n",
      ":max_peak_width => 2.0\n",
      ":min_frag_count => 1\n",
      ":min_frag_count_presearch => 7\n",
      ":min_frag_count_index_search => 1\n",
      ":min_matched_ratio => 0.45f0\n",
      ":min_matched_ratio_presearch => 1.0f0\n",
      ":min_matched_ratio_index_search => 0.35f0\n",
      ":min_spectral_contrast => 0.5f0\n",
      ":min_spectral_contrast_presearch => 0.9f0\n",
      ":most_intense => false\n",
      ":n_quadrature_nodes => 100\n",
      ":nnls_tol => 100.0f0\n",
      ":prec_tolerance => 5.0\n",
      ":quadrupole_isolation_width => 4.001831\n",
      ":regularize => false\n",
      ":rt_bounds => (-20.0, 200.0)\n",
      ":rt_tol => 20.0\n",
      ":sample_rate => 0.01\n",
      ":tail_distance => 0.25f0\n",
      ":topN_presearch => 5000\n",
      ":topN => 50000\n",
      ":topN_index_search => 50000\n",
      ":huber_δ => 1000.0f0\n",
      ":λ => 0.0f0\n",
      ":γ => 0.0f0\n",
      "1:5\n"
     ]
    },
    {
     "name": "stderr",
     "output_type": "stream",
     "text": [
      "WARNING: method definition for #pearson_corr!#114 at /Users/n.t.wamsley/Projects/Titus/src/ML/EGH.jl:302 declares type variable T but does not use it.\n"
     ]
    },
    {
     "name": "stdout",
     "output_type": "stream",
     "text": [
      "Loading spectral libraries into main memory...\n",
      "Begin processing: 18 files\n",
      "Starting Pre Search...\n",
      "max_peak_width 2.0\n",
      "max_peak_width 2.0\n",
      "max_peak_width 2.0\n",
      "max_peak_width 2.0\n",
      "max_peak_width 2.0\n",
      "max_peak_width 2.0\n",
      "max_peak_width 2.0\n",
      "max_peak_width 2.0\n",
      "max_peak_width 2.0\n",
      "solve_time 142.62118702999987\n",
      "prep_time 7.198787071999988\n",
      "index_search_time 30.838189863999983\n",
      "index_ions_time 36.049490453000004\n",
      "(2024, 23)\n",
      "(1279, 23)\n",
      "([(-0.8876691060082691, 3.929215150321351), (-39.70276895391336, 39.4891251034547)], [0.78073339984259, 0.21926660015740995])\n",
      "solve_time 150.49425144499943\n",
      "prep_time 12.215737115999994\n",
      "index_search_time 34.577228689000066\n",
      "index_ions_time 39.45005499300011\n",
      "(2396, 23)\n",
      "(1479, 23)\n",
      "([(-0.8281361888289195, 3.12156219978619), (-37.64974663812165, 39.6859678822675)], [0.7473751940509903, 0.2526248059490096])\n",
      "max_peak_width 2.0\n",
      "solve_time 150.86428684799995\n",
      "prep_time 8.135403581000006\n",
      "index_search_time 31.80593518600006\n",
      "index_ions_time 44.3314587869999\n",
      "(2443, 23)\n",
      "(1490, 23)\n",
      "([(-0.49897652221023375, 3.2321670777147955), (-39.62743654731211, 39.0246804451209)], [0.7694916597986831, 0.23050834020131675])\n",
      "max_peak_width 2.0\n",
      "max_peak_width 2.0\n",
      "solve_time 154.0608514530005\n",
      "prep_time 7.990645892999988\n",
      "index_search_time 29.509294559000047\n",
      "index_ions_time 53.34783758799992\n",
      "(2676, 23)\n",
      "(1459, 23)\n",
      "([(-0.7169012621384562, 3.5262489629235763), (-39.53359302354449, 39.529981035595625)], [0.7402580590289468, 0.25974194097105313])\n",
      "max_peak_width 2.0\n",
      "solve_time 158.2612015320004\n",
      "prep_time 8.158020178999973\n",
      "index_search_time 30.295453550000012\n",
      "index_ions_time 48.31656334400006\n",
      "(2770, 23)\n",
      "(1494, 23)\n",
      "([(-1.347117985346329, 3.6119619350697754), (-38.394974865689576, 39.16386382305815)], [0.7218695034884488, 0.27813049651155125])\n",
      "max_peak_width 2.0\n",
      "solve_time 160.81512103999984\n",
      "prep_time 8.444358091999996\n",
      "index_search_time 37.114541053\n",
      "index_ions_time 45.4077283930001\n",
      "(2867, 23)\n",
      "(1363, 23)\n",
      "([(-0.7867478169037121, 3.7409345867611306), (-37.84600549130208, 38.73840237221743)], [0.7893667715376737, 0.2106332284623263])\n",
      "solve_time 162.66805507700025\n",
      "prep_time 8.551636504000017\n",
      "index_search_time 30.634737854999933\n",
      "index_ions_time 41.38390988799994\n",
      "(2775, 23)\n",
      "(1515, 23)\n",
      "([(-1.097734118418738, 3.1126458115806916), (-39.68149623145308, 39.18876863521791)], [0.7430504779769833, 0.25694952202301674])\n",
      "max_peak_width 2.0\n",
      "max_peak_width 2.0\n",
      "solve_time 164.831637988\n",
      "prep_time 8.288954343000007\n",
      "index_search_time 34.497540324000056\n",
      "index_ions_time 41.42267268700013\n",
      "(2913, 23)\n",
      "(1247, 23)\n",
      "([(-1.3548876307703428, 3.3623653627568433), (-38.19677926975522, 39.84570433286556)], [0.7324032812465459, 0.2675967187534542])\n",
      "solve_time 165.77542798999977\n",
      "prep_time 8.455016386000011\n",
      "index_search_time 33.243630221999744\n",
      "index_ions_time 46.49816928399989\n",
      "(3013, 23)\n",
      "(1492, 23)\n",
      "([(-1.3122425538726665, 3.800765180004527), (-39.57571836010199, 39.815394291143406)], [0.7217112309604113, 0.2782887690395885])\n",
      "max_peak_width 2.0\n",
      "max_peak_width 2.0\n",
      "solve_time 166.8930179419998\n",
      "prep_time 7.960262195999998\n",
      "index_search_time 29.591118178000038\n",
      "index_ions_time 44.52663696500006\n",
      "(2417, 23)\n",
      "(1384, 23)\n",
      "([(-0.9414689455337785, 3.851180096839331), (-39.607953037727306, 39.101376922457526)], [0.7675032158941109, 0.232496784105889])\n",
      "solve_time 165.5369403350002\n",
      "prep_time 8.317910170000014\n",
      "index_search_time 33.46962690800001\n",
      "index_ions_time 50.03722140599991\n",
      "(2594, 23)\n",
      "(1523, 23)\n",
      "([(-0.8539540765452346, 3.3680772113023623), (-39.95959588316855, 39.62726672969137)], [0.7036228991657998, 0.2963771008342001])\n",
      "solve_time 159.95610691199994\n",
      "prep_time 7.939480044000005\n",
      "index_search_time 29.484994696999998\n",
      "index_ions_time 44.56735702100008\n",
      "(2468, 23)\n",
      "(1325, 23)\n",
      "solve_time 177.5514238320002\n",
      "prep_time 8.316772249000037\n",
      "index_search_time 35.579634067000015\n",
      "index_ions_time 41.77842381400004\n",
      "(2714, 23)\n",
      "(1438, 23)\n",
      "([(-0.8729433703464544, 4.046701258518995), (-38.87894159912044, 39.49987619372918)], [0.8022362071776477, 0.19776379282235235])\n",
      "([(-1.3518425967637284, 3.5850392453900892), (-38.55049036783465, 39.81521598998185)], [0.7768724887338407, 0.2231275112661593])\n",
      "solve_time 157.9853224400001\n",
      "prep_time 7.871499363000008\n",
      "index_search_time 26.095623890999992\n",
      "index_ions_time 40.21313208499995\n",
      "(2203, 23)\n",
      "(1448, 23)\n",
      "([(-0.48694932586904344, 2.6897157086375976), (-39.959325101582735, 39.785485317413055)], [0.7892936296326005, 0.21070637036739956])\n",
      "solve_time 172.3204369100004\n",
      "prep_time 8.455461243000004\n",
      "index_search_time 33.88952681900004\n",
      "index_ions_time 50.63389437200001\n",
      "(2910, 23)\n",
      "(1377, 23)\n",
      "([(-0.5100304198598745, 3.6900978021988005), (-39.92976329834726, 37.46676555123866)], [0.6791601396488381, 0.3208398603511615])\n",
      "solve_time 170.07941760500077\n",
      "prep_time 8.11933713899999\n",
      "index_search_time 39.10683239499994\n",
      "index_ions_time 41.55190581099997\n",
      "(3220, 23)\n",
      "(1339, 23)\n",
      "([(-0.806576108418545, 2.7224075464752215), (-38.94249735084095, 39.843030844905535)], [0.6252144788557553, 0.3747855211442444])\n",
      "solve_time 167.6554108969998\n",
      "prep_time 8.303063871000003\n",
      "index_search_time 34.62578932200009\n",
      "index_ions_time 42.075882331000024\n",
      "(2640, 23)\n",
      "(1472, 23)\n",
      "([(-0.4966180911135444, 3.1683201422911287), (-39.30900595877904, 38.8100307050772)], [0.7664525391598431, 0.23354746084015707])\n",
      "solve_time 164.75150763099984\n",
      "prep_time 8.192315146999999\n",
      "index_search_time 29.229906008000036\n",
      "index_ions_time 49.71007279100014\n",
      "(2659, 23)\n",
      "(1611, 23)\n",
      "([(-1.064074790949901, 3.1964225074049843), (-39.89864997138111, 39.078381007802854)], [0.75537380579724, 0.24462619420275997])\n",
      "Finished presearch in 740.686150632 seconds\n",
      "Begining Main Search...\n",
      "max_peak_width 2.0\n",
      "max_peak_width 2.0\n",
      "max_peak_width 2.0\n",
      "max_peak_width 2.0\n",
      "max_peak_width 2.0\n",
      "max_peak_width 2.0\n",
      "max_peak_width 2.0\n",
      "max_peak_width 2.0\n",
      "max_peak_width 2.0\n"
     ]
    }
   ],
   "source": [
    ";julia --threads 9 ./src/Routines/LibrarySearch/routine.jl ./data/example_config/LibrarySearch_101823-Copy7.json /Users/n.t.wamsley/TEST_DATA/mzXML/ /Users/n.t.wamsley/RIS_temp/BUILD_PROSIT_LIBS/nOf3_indy4b3_ally3b2 -s true -e TEST_101823_07\n"
   ]
  },
  {
   "cell_type": "code",
   "execution_count": null,
   "id": "6a3e238d-7dcd-49af-8135-6e474d503304",
   "metadata": {
    "tags": []
   },
   "outputs": [],
   "source": [
    ";julia --threads 9 ./src/Routines/LibrarySearch/routine.jl ./data/example_config/LibrarySearch_101823-Copy8.json /Users/n.t.wamsley/TEST_DATA/mzXML/ /Users/n.t.wamsley/RIS_temp/BUILD_PROSIT_LIBS/nOf3_indy4b3_ally3b2 -s true -e TEST_101823_08\n"
   ]
  },
  {
   "cell_type": "code",
   "execution_count": null,
   "id": "cf88eab6-e8fd-4d8e-a8e4-ac9223140a7b",
   "metadata": {},
   "outputs": [],
   "source": []
  }
 ],
 "metadata": {
  "kernelspec": {
   "display_name": "Julia 1.9.2",
   "language": "julia",
   "name": "julia-1.9"
  },
  "language_info": {
   "file_extension": ".jl",
   "mimetype": "application/julia",
   "name": "julia",
   "version": "1.9.2"
  }
 },
 "nbformat": 4,
 "nbformat_minor": 5
}
