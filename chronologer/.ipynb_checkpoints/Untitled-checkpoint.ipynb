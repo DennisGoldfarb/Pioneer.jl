{
 "cells": [
  {
   "cell_type": "code",
   "execution_count": 4,
   "id": "1446a44c-8379-459b-b3aa-fed4883ee849",
   "metadata": {
    "tags": []
   },
   "outputs": [
    {
     "name": "stdout",
     "output_type": "stream",
     "text": [
      "Traceback (most recent call last):\n",
      "  File \"/Users/n.t.wamsley/Projects/chronologer/Predict_RT.py\", line 76, in <module>\n",
      "    main()\n",
      "  File \"/Users/n.t.wamsley/Projects/chronologer/Predict_RT.py\", line 66, in main\n",
      "    generate_df_with_pred( args.input_file,\n",
      "  File \"/Users/n.t.wamsley/Projects/chronologer/Predict_RT.py\", line 45, in generate_df_with_pred\n",
      "    df = read_rt_database( input_tsv, chronologer_compatible_only=True, )\n",
      "  File \"/Users/n.t.wamsley/Projects/chronologer/src/local_io.py\", line 35, in read_rt_database\n",
      "    patch_modseqs_with_cyclo_N_term( df )\n",
      "  File \"/Users/n.t.wamsley/Projects/chronologer/src/local_io.py\", line 15, in patch_modseqs_with_cyclo_N_term\n",
      "    modseqs = list( entries.PeptideModSeq )\n",
      "  File \"/usr/local/lib/python3.9/site-packages/pandas/core/generic.py\", line 6204, in __getattr__\n",
      "    return object.__getattribute__(self, name)\n",
      "AttributeError: 'DataFrame' object has no attribute 'PeptideModSeq'\n"
     ]
    }
   ],
   "source": [
    "!python3.9 Predict_RT.py /Users/n.t.wamsley/Desktop/testPrositOut.csv chronologer_mouse_hi.tsv"
   ]
  },
  {
   "cell_type": "code",
   "execution_count": 1,
   "id": "0cbb2387-cd7e-4e2f-9936-da695c94213a",
   "metadata": {
    "tags": []
   },
   "outputs": [],
   "source": [
    "#!python3 -m pip install https://github.com/searlelab/chronologer.git"
   ]
  },
  {
   "cell_type": "code",
   "execution_count": null,
   "id": "c87a96ee-2478-4a82-818c-0a659793b71f",
   "metadata": {},
   "outputs": [],
   "source": []
  },
  {
   "cell_type": "code",
   "execution_count": null,
   "id": "ba441dd7-bdf3-4063-85d1-53e62f717437",
   "metadata": {},
   "outputs": [],
   "source": []
  }
 ],
 "metadata": {
  "kernelspec": {
   "display_name": "Python 3 (ipykernel)",
   "language": "python",
   "name": "python3"
  },
  "language_info": {
   "codemirror_mode": {
    "name": "ipython",
    "version": 3
   },
   "file_extension": ".py",
   "mimetype": "text/x-python",
   "name": "python",
   "nbconvert_exporter": "python",
   "pygments_lexer": "ipython3",
   "version": "3.9.18"
  }
 },
 "nbformat": 4,
 "nbformat_minor": 5
}
