{
 "cells": [
  {
   "cell_type": "markdown",
   "id": "5459122a-7fab-47e2-91b8-f624b7eb32ec",
   "metadata": {},
   "source": [
    "# Prototype new concepts before introduction into test and src"
   ]
  },
  {
   "cell_type": "code",
   "execution_count": null,
   "id": "aa8b083e-0353-47d5-96c3-cb745a5b8394",
   "metadata": {},
   "outputs": [],
   "source": [
    "struct Residue\n",
    "    AA:"
   ]
  }
 ],
 "metadata": {
  "kernelspec": {
   "display_name": "Julia 1.8.5",
   "language": "julia",
   "name": "julia-1.8"
  },
  "language_info": {
   "file_extension": ".jl",
   "mimetype": "application/julia",
   "name": "julia",
   "version": "1.8.5"
  }
 },
 "nbformat": 4,
 "nbformat_minor": 5
}
