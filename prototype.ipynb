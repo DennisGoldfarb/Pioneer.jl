{
 "cells": [
  {
   "cell_type": "markdown",
   "id": "5459122a-7fab-47e2-91b8-f624b7eb32ec",
   "metadata": {},
   "source": [
    "# Prototype new concepts before introduction into test and src"
   ]
  },
  {
   "cell_type": "code",
   "execution_count": null,
   "id": "be0c5097-909d-4fa4-aa63-1e5b1df661f6",
   "metadata": {},
   "outputs": [],
   "source": []
  },
  {
   "cell_type": "code",
   "execution_count": null,
   "id": "15d5b380-5a8f-470c-9c58-c51df15c94a9",
   "metadata": {},
   "outputs": [],
   "source": []
  },
  {
   "cell_type": "code",
   "execution_count": 1,
   "id": "aa8b083e-0353-47d5-96c3-cb745a5b8394",
   "metadata": {},
   "outputs": [],
   "source": [
    "##########\n",
    "#Global Constants\n",
    "##########\n",
    "const H2O = Float32(18.010565)\n",
    "const PROTON = Float32(1.0072764)\n",
    "const NEUTRON = Float32(1.00335)\n",
    "const AA_to_mass =\n",
    "Dict{Char, Float32}(\n",
    "        'A' => 71.03711,\n",
    "        'R' => 156.10111,\n",
    "        'N' => 114.04293,\n",
    "        'D' => 115.02694,\n",
    "        'C' => 103.00919,\n",
    "        'E' => 129.04259,\n",
    "        'Q' => 128.05858,\n",
    "        'G' => 57.02146,\n",
    "        'H' => 137.05891,\n",
    "        'I' => 113.08406,\n",
    "        'L' => 113.08406,\n",
    "        'K' => 128.09496,\n",
    "        'M' => 131.04049,\n",
    "        'F' => 147.06841,\n",
    "        'P' => 97.05276,\n",
    "        'S' => 87.03203,\n",
    "        'T' => 101.04768,\n",
    "        'W' => 186.07931,\n",
    "        'Y' => 163.06333,\n",
    "        'V' => 99.06841,\n",
    "        'U' => 150.95363,\n",
    "        'O' => 237.14773\n",
    ")\n",
    "\n",
    "const default_mods = \n",
    "Dict{String, Float32}(\n",
    "    \"Carb\" => 57.021464\n",
    ")\n",
    "##########\n",
    "#Representation of Amino Acid\n",
    "##########\n",
    "struct AA \n",
    "    aa::Char\n",
    "    mass::Float32\n",
    "    #Constructor for amino acid. Restric inputs\n",
    "    #to valid amino acid symbols and assign correct mass\n",
    "    function AA(aa::Char)\n",
    "        m = try\n",
    "            AA_to_mass[aa]\n",
    "        catch\n",
    "            throw(ErrorException(\"The character $aa cannot be interpreted as an amino acid!\"))\n",
    "        end\n",
    "        return new(aa, m)\n",
    "    end\n",
    "end\n",
    "\n",
    "#Getter methods\n",
    "getMass(aa::AA) = aa.mass\n",
    "getAA(aa::AA) = aa.aa\n",
    "\n",
    "export AA\n",
    "##########\n",
    "#Modification. Simple representation of mass modifiction\n",
    "##########\n",
    "struct Mod\n",
    "    name::String\n",
    "    mass::Float32\n",
    "end\n",
    "\n",
    "function Mod(mod::String, mods_dict::Dict{String, Float32})\n",
    "    \"\"\"\n",
    "    Given a string, first parse by the regular expression  \n",
    "        Example: \"K[+8.014199]\" or \"C[Carb]\"\n",
    "        \n",
    "    In the first case, \"K[+8.014199]\", \"K[+8.014199]\" is the modification name\n",
    "        and 8.014199 is the modification mass. \n",
    "\n",
    "    In the second case, \"C[Carb]\" is the modification name\n",
    "        and \"Carb\" is a key to the dictionary \"mods_dict\".\n",
    "        mods_dict[\"Carb\"] returns the modification mass. \n",
    "\n",
    "    If the Mod string can't be parsed, returns an error. \n",
    "    \"\"\"\n",
    "    m = match(r\"^[A-Z]\\[(.*)\\]$\", mod)\n",
    "\n",
    "    try\n",
    "        if m == nothing\n",
    "            Mod(\n",
    "                mod,\n",
    "                0.0\n",
    "            )\n",
    "        elseif startswith(m[1], \"+\")\n",
    "            Mod(\n",
    "                mod,                    #\"K[+8.014199]\"\n",
    "                parse(Float32, m[1][2:end]) #8.014199\n",
    "                )\n",
    "        else \n",
    "            Mod(\n",
    "                mod,                #getAA(\"C[Carb]\")\n",
    "                mods_dict[m[1]]         #57.021464\n",
    "                )\n",
    "        end\n",
    "    catch\n",
    "        throw(ErrorException(\"$mod could not be parsed as given\"))\n",
    "    end \n",
    "end\n",
    "\n",
    "#Optionally parse mods without a mods_dict\n",
    "Mod(mod::String) = Mod(mod, Dict{String, Float32}())\n",
    "Mod(name::Char, mass::Float32) = Mod(string(name), mass)\n",
    "#Empty modification\n",
    "Mod() = Mod(\"\", 0.0)\n",
    "\n",
    "#Getter Functions\n",
    "getMass(mod::Mod) = mod.mass    \n",
    "getName(mod::Mod) = mod.name\n",
    "export Mod\n",
    "\n",
    "##########\n",
    "#Residue. Implementation of amino acid with custom mass modifications\n",
    "##########\n",
    "struct Residue\n",
    "    aa::AA\n",
    "    mod::Mod\n",
    "    mass::Float32\n",
    "end\n",
    "\n",
    "#Residue(AA('A'))\n",
    "function Residue(aa::AA)\n",
    "    Residue(aa, Mod(), getMass(aa))\n",
    "end\n",
    "\n",
    "#Residue('A')\n",
    "Residue(aa::Char) = Residue(AA(aa))\n",
    "\n",
    "Residue(aa::AA, mod::Mod) = Residue(aa::AA, mod, getMass(mod)+getMass(aa))\n",
    "\n",
    "function Residue(residue::String, mods_dict::Dict{String, Float32}) \n",
    "    if length(residue)>1\n",
    "        Residue(AA(residue[1]), Mod(residue, mods_dict))\n",
    "    else\n",
    "        Residue(AA(residue[1]), Mod())\n",
    "    end\n",
    "end\n",
    "function Residue(residue::String)\n",
    "    if length(residue)>1\n",
    "        Residue(AA(residue[1]), Mod(residue))\n",
    "    else\n",
    "        Residue(AA(residue[1]), Mod())\n",
    "    end\n",
    "end\n",
    "\n",
    "\n",
    "Residue(residue::String, mod_mass::Float32) = Residue(AA(residue[1]), Mod(residue, mod_mass))\n",
    "\n",
    "Residue(residue::Char, mod_mass::Float32) = Residue(AA(residue), Mod(residue, mod_mass))\n",
    "#    \"\"\"\n",
    "#    Residue('K', )\n",
    "#    \n",
    "#    \"\"\"\n",
    "#    Residue(\n",
    "#            AA(residue), \n",
    "#            Mod(join([residue,\"[+\", string(mod_mass),\"]\"]), mod_mass),\n",
    "#            mod_mass\n",
    "#            )\n",
    "#end\n",
    "#Getter methods\n",
    "getMass(residue::Residue) = residue.mass\n",
    "getMod(residue::Residue) = residue.mod\n",
    "getAA(residue::Residue) = residue.aa\n",
    "\n",
    "export Residue\n",
    "export getMass\n",
    "export getMod\n",
    "export getAA\n",
    "export default_mods\n",
    "\n",
    "##########\n",
    "#Frag\n",
    "##########\n",
    "struct Frag\n",
    "    charge::Int32\n",
    "    type::Char\n",
    "    mz::Float32\n",
    "    isotope::Int32\n",
    "    function Frag(residues::Array{Residue, 1}, type::Char, charge::Int32, isotope::Int32)\n",
    "        if type=='b'\n",
    "            new(charge, type, (sum(residue->getMass(residue), residues) + PROTON*charge + isotope*NEUTRON)/charge, isotope)\n",
    "        elseif type∈('y','p')\n",
    "            new(charge, type, (sum(residue->getMass(residue), residues) + PROTON*charge + H2O + isotope*NEUTRON)/charge, isotope)\n",
    "        #Could add functionality for a/x/c/z ions here\n",
    "        end\n",
    "    end\n",
    "end\n",
    "\n",
    "Frag(residues::Array{Residue, 1}, type::Char, charge::Int32) = Frag(residues, type, charge, Int32(0))\n",
    "\n",
    "getCharge(frag::Frag) = frag.charge\n",
    "getMZ(frag::Frag) = frag.mz\n",
    "getType(frag::Frag) = frag.type\n",
    "getIso(frag::Frag) = frag.isotope\n",
    "\n",
    "export Frag\n",
    "export getMZ\n",
    "export getCharge\n",
    "export getType\n",
    "export getIso"
   ]
  },
  {
   "cell_type": "code",
   "execution_count": null,
   "id": "d5375d04-cbb0-42f9-94c6-a03987b9200e",
   "metadata": {},
   "outputs": [],
   "source": [
    "test = Array{Residue, 1}([Residue('P'), Residue('E'), Residue('P')])"
   ]
  },
  {
   "cell_type": "code",
   "execution_count": null,
   "id": "6ef78032-9ea2-4651-aab0-34a6877aa7d6",
   "metadata": {},
   "outputs": [],
   "source": [
    "sum(v->getMass(v),test)"
   ]
  },
  {
   "cell_type": "code",
   "execution_count": null,
   "id": "98c5a135-241c-4e42-a9dc-44ca38d96f5f",
   "metadata": {
    "tags": []
   },
   "outputs": [],
   "source": [
    "t = findall(r\"[A-Z]\\[(.*?)\\]\", \"C[Carb]TIDEK[+8.014199]\")"
   ]
  },
  {
   "cell_type": "code",
   "execution_count": null,
   "id": "4b710ef5-289f-4cbc-b5a5-baf4c20a52cc",
   "metadata": {
    "tags": []
   },
   "outputs": [],
   "source": [
    "sequence = \"C[Carb]TIDEK[+8.014199]\""
   ]
  },
  {
   "cell_type": "code",
   "execution_count": null,
   "id": "3afb840f-a196-4cf7-866d-fc8c7c2ef9e4",
   "metadata": {
    "tags": []
   },
   "outputs": [],
   "source": [
    " map(mod -> sequence[mod], findall(r\"[A-Z]\\[(.*?)\\]\", sequence))"
   ]
  },
  {
   "cell_type": "code",
   "execution_count": null,
   "id": "db86d7c5-f76d-407a-bb7d-20c008d44a7c",
   "metadata": {
    "tags": []
   },
   "outputs": [],
   "source": [
    "\"C[Carb]TIDEK[+8.014199]\"[t[1]]"
   ]
  },
  {
   "cell_type": "code",
   "execution_count": null,
   "id": "fa657ba9-b187-47b5-bc1e-d7fdf17b9c5d",
   "metadata": {},
   "outputs": [],
   "source": [
    "('b', 1, 4)"
   ]
  },
  {
   "cell_type": "code",
   "execution_count": null,
   "id": "e0883276-3542-4004-87db-4d1529423050",
   "metadata": {},
   "outputs": [],
   "source": []
  },
  {
   "cell_type": "code",
   "execution_count": null,
   "id": "11af494c-8bb6-4d1f-bb9e-b75dd90a3d1b",
   "metadata": {
    "tags": []
   },
   "outputs": [],
   "source": [
    "x = split(\"b(1-2,1-N);y(1-2,1-N);p(2-3,0-2)\", \";\")"
   ]
  },
  {
   "cell_type": "code",
   "execution_count": null,
   "id": "e0a986be-6f1a-48a8-801b-5a430916bf06",
   "metadata": {
    "tags": []
   },
   "outputs": [],
   "source": [
    "x[1][1]"
   ]
  },
  {
   "cell_type": "code",
   "execution_count": null,
   "id": "be2f64c6-4b92-4b58-b5da-f7225eeb7b4e",
   "metadata": {
    "tags": []
   },
   "outputs": [],
   "source": [
    "x[1]"
   ]
  },
  {
   "cell_type": "code",
   "execution_count": null,
   "id": "f77d7500-c543-4b1d-99d7-ce76cacdb64d",
   "metadata": {
    "tags": []
   },
   "outputs": [],
   "source": [
    "a = match(r\"([a-z])\\((.*?),(.*?)\\)\", x[1])"
   ]
  },
  {
   "cell_type": "code",
   "execution_count": 2,
   "id": "05725e93-075e-4963-9ca9-6e014d75a2c1",
   "metadata": {
    "tags": []
   },
   "outputs": [
    {
     "data": {
      "text/plain": [
       "6-element Vector{NamedTuple}:\n",
       " (ion_type = 'b', ind = 3, charge = 1)\n",
       " (ion_type = 'b', ind = 4, charge = 2)\n",
       " (ion_type = 'b', ind = 5, charge = 1)\n",
       " (ion_type = 'b', ind = 3, charge = 2)\n",
       " (ion_type = 'b', ind = 4, charge = 1)\n",
       " (ion_type = 'b', ind = 5, charge = 2)"
      ]
     },
     "execution_count": 2,
     "metadata": {},
     "output_type": "execute_result"
    }
   ],
   "source": [
    "frags = Array{NamedTuple, 1}([\n",
    " (ion_type = 'b', ind = Int32(3), charge = Int32(1)),\n",
    " (ion_type = 'b', ind = Int32(4), charge = Int32(2)),\n",
    " (ion_type = 'b', ind = Int32(5), charge = Int32(1)),\n",
    " (ion_type = 'b', ind = Int32(3), charge = Int32(2)),\n",
    " (ion_type = 'b', ind = Int32(4), charge = Int32(1)),\n",
    " (ion_type = 'b', ind = Int32(5), charge = Int32(2))])\n",
    "    \n",
    "    "
   ]
  },
  {
   "cell_type": "code",
   "execution_count": 3,
   "id": "612c464c-bfd2-4e58-a34c-c4fddd683fce",
   "metadata": {
    "tags": []
   },
   "outputs": [
    {
     "data": {
      "text/plain": [
       "frag! (generic function with 1 method)"
      ]
     },
     "execution_count": 3,
     "metadata": {},
     "output_type": "execute_result"
    }
   ],
   "source": [
    "mutable struct Peptide\n",
    "    sequence::String\n",
    "    fragments::Array{Frag, 1}\n",
    "    charge::Int32\n",
    "    mz::Float32\n",
    "    mods::Array{String, 1}\n",
    "    function Peptide(sequence::String, charge::Int32, mods_dict::Dict{String, Float32})\n",
    "        new(\n",
    "            sequence,\n",
    "            Array{Frag, 1}(),\n",
    "            charge,\n",
    "            getMZ(Frag(map(mod -> Residue(sequence[mod], mods_dict), findall(r\"[A-Z]\\[.*?\\]|[A-Z]\", sequence)), 'p', charge)),\n",
    "            map(mod -> sequence[mod], findall(r\"[A-Z]\\[.*?\\]\", sequence))\n",
    "        )\n",
    "    end\n",
    "\n",
    "end\n",
    "\n",
    "getSequence(peptide::Peptide) = peptide.sequence\n",
    "\n",
    "function getResidues(peptide::Peptide, mods_dict::Dict{String, Float32})\n",
    "    map(mod -> Residue(getSequence(peptide)[mod], mods_dict), findall(r\"[A-Z]\\[.*?\\]|[A-Z]\", getSequence(peptide)))\n",
    "end\n",
    "\n",
    "function frag!(peptide::Peptide, frags::Vector{NamedTuple}, mods_dict::Dict{String, Float32})\n",
    "    \n",
    "    function getFrag(residues::Vector{Residue}, frag::NamedTuple)\n",
    "        #get combinations of b, y, and p ions and charges that don't violate the filters\n",
    "        #Loop through them. \n",
    "        if frag.ion_type == 'b'\n",
    "            Frag(residues[1:frag.ind], frag.ion_type, frag.charge)\n",
    "        elseif frag.ion_type == 'y'\n",
    "            Frag(reverse(reverse(residues)[1:frag.ind]), frag.ion_type, frag.charge)\n",
    "        elseif frag.ion_type == 'p'\n",
    "            Frag(residues, frag.ion_type, frag.charge, frag.isotope)\n",
    "        else\n",
    "            throw(ErrorException(string(\"Ion type \", frag.ion_type,\" not recognized\")))\n",
    "        end\n",
    "    end\n",
    "    peptide.fragments = map(frag -> getFrag(getResidues(peptide, mods_dict), frag), frags)\n",
    "end"
   ]
  },
  {
   "cell_type": "code",
   "execution_count": 7,
   "id": "85cae8a5-d64a-4425-a6da-fc38f7575588",
   "metadata": {
    "tags": []
   },
   "outputs": [
    {
     "data": {
      "text/plain": [
       "true"
      ]
     },
     "execution_count": 7,
     "metadata": {},
     "output_type": "execute_result"
    }
   ],
   "source": [
    "all([true, true])"
   ]
  },
  {
   "cell_type": "code",
   "execution_count": 21,
   "id": "3aded236-6275-4c92-b432-a26a08f0abb7",
   "metadata": {
    "tags": []
   },
   "outputs": [],
   "source": [
    "struct A\n",
    "    a::Int\n",
    "    b::Int\n",
    "end\n",
    "\n",
    "struct B\n",
    "    a::A\n",
    "    c::Int\n",
    "end"
   ]
  },
  {
   "cell_type": "code",
   "execution_count": 22,
   "id": "bafdf455-625c-4ae9-a1ae-8b7c05b32a40",
   "metadata": {
    "tags": []
   },
   "outputs": [
    {
     "data": {
      "text/plain": [
       "A(1, 1)"
      ]
     },
     "execution_count": 22,
     "metadata": {},
     "output_type": "execute_result"
    }
   ],
   "source": [
    "test_A = A(1, 1)"
   ]
  },
  {
   "cell_type": "code",
   "execution_count": 24,
   "id": "5f323935-2584-4cda-a831-13683b11cdfd",
   "metadata": {
    "tags": []
   },
   "outputs": [
    {
     "data": {
      "text/plain": [
       "B(A(1, 1), 2)"
      ]
     },
     "execution_count": 24,
     "metadata": {},
     "output_type": "execute_result"
    }
   ],
   "source": [
    "B(test_A, 2)"
   ]
  },
  {
   "cell_type": "code",
   "execution_count": 36,
   "id": "da088ca8-4d4c-4719-872b-9b2531ca45b3",
   "metadata": {
    "tags": []
   },
   "outputs": [
    {
     "data": {
      "text/plain": [
       "UnitRange{Int64}[]"
      ]
     },
     "execution_count": 36,
     "metadata": {},
     "output_type": "execute_result"
    }
   ],
   "source": [
    "sequence = \"C[Carb]TIDEK[+8.014199]\"\n",
    "a = findall(r\"^(\\[.*?\\])\", sequence)"
   ]
  },
  {
   "cell_type": "code",
   "execution_count": 44,
   "id": "2dc27328-4a00-4b37-9f9b-e77568cdd1c3",
   "metadata": {
    "tags": []
   },
   "outputs": [
    {
     "data": {
      "text/plain": [
       "2-element Vector{String}:\n",
       " \"C[Carb]\"\n",
       " \"K[+8.014199]\""
      ]
     },
     "execution_count": 44,
     "metadata": {},
     "output_type": "execute_result"
    }
   ],
   "source": [
    "map(mod -> sequence[mod], findall(r\"[A-Z]\\[.*?\\]\", sequence))"
   ]
  },
  {
   "cell_type": "code",
   "execution_count": 42,
   "id": "f9368766-25fb-43d3-b254-03444ae47282",
   "metadata": {
    "tags": []
   },
   "outputs": [
    {
     "data": {
      "text/plain": [
       "\"CTIDEK\""
      ]
     },
     "execution_count": 42,
     "metadata": {},
     "output_type": "execute_result"
    }
   ],
   "source": [
    "replace(sequence, r\"(\\[.*?\\])\"=>\"\")"
   ]
  },
  {
   "cell_type": "code",
   "execution_count": 41,
   "id": "d4fbfe45-802e-47d8-be94-caf512a2272d",
   "metadata": {
    "tags": []
   },
   "outputs": [
    {
     "ename": "LoadError",
     "evalue": "BoundsError: attempt to access 0-element Vector{UnitRange{Int64}} at index [1]",
     "output_type": "error",
     "traceback": [
      "BoundsError: attempt to access 0-element Vector{UnitRange{Int64}} at index [1]",
      "",
      "Stacktrace:",
      " [1] getindex(A::Vector{UnitRange{Int64}}, i1::Int64)",
      "   @ Base ./array.jl:924",
      " [2] top-level scope",
      "   @ In[41]:1"
     ]
    }
   ],
   "source": [
    "sequence[a[1]]"
   ]
  },
  {
   "cell_type": "code",
   "execution_count": null,
   "id": "822659b7-7b23-493a-bb13-cce6154d1a88",
   "metadata": {},
   "outputs": [],
   "source": []
  },
  {
   "cell_type": "code",
   "execution_count": 17,
   "id": "b7f26cd5-1253-4bfb-a1c5-76c2628bb0e6",
   "metadata": {
    "tags": []
   },
   "outputs": [
    {
     "data": {
      "text/plain": [
       "test (generic function with 1 method)"
      ]
     },
     "execution_count": 17,
     "metadata": {},
     "output_type": "execute_result"
    }
   ],
   "source": [
    "function test(a, b)\n",
    "    println(string(a),'-',string(b))\n",
    "end"
   ]
  },
  {
   "cell_type": "code",
   "execution_count": 20,
   "id": "3ef5e891-622d-408b-866d-bc357c381565",
   "metadata": {
    "tags": []
   },
   "outputs": [
    {
     "name": "stdout",
     "output_type": "stream",
     "text": [
      "1-b\n",
      "2-a\n"
     ]
    },
    {
     "data": {
      "text/plain": [
       "2-element Vector{Nothing}:\n",
       " nothing\n",
       " nothing"
      ]
     },
     "execution_count": 20,
     "metadata": {},
     "output_type": "execute_result"
    }
   ],
   "source": [
    "test.([1, 2], ['b','a'])"
   ]
  },
  {
   "cell_type": "code",
   "execution_count": 14,
   "id": "94995ce7-cee7-4278-9fc8-73f52367bcfb",
   "metadata": {
    "tags": []
   },
   "outputs": [
    {
     "data": {
      "text/plain": [
       "Base.Iterators.ProductIterator{Tuple{Tuple{Int64, Char}, Tuple{Int64, Char}}}(((1, 'a'), (2, 'b')))"
      ]
     },
     "execution_count": 14,
     "metadata": {},
     "output_type": "execute_result"
    }
   ],
   "source": [
    "Base.product(zip([1, 2], ['a','b'])...)"
   ]
  },
  {
   "cell_type": "code",
   "execution_count": 4,
   "id": "0a412bbe-d98a-4c9b-970d-bc476a137c3f",
   "metadata": {
    "tags": []
   },
   "outputs": [
    {
     "data": {
      "text/plain": [
       "6-element Vector{Residue}:\n",
       " Residue(AA('C', 103.00919f0), Mod(\"C[Carb]\", 57.021465f0), 160.03065f0)\n",
       " Residue(AA('T', 101.04768f0), Mod(\"\", 0.0f0), 101.04768f0)\n",
       " Residue(AA('I', 113.08406f0), Mod(\"\", 0.0f0), 113.08406f0)\n",
       " Residue(AA('D', 115.02694f0), Mod(\"\", 0.0f0), 115.02694f0)\n",
       " Residue(AA('E', 129.04259f0), Mod(\"\", 0.0f0), 129.04259f0)\n",
       " Residue(AA('K', 128.09496f0), Mod(\"K[+8.014199]\", 8.014199f0), 136.10916f0)"
      ]
     },
     "execution_count": 4,
     "metadata": {},
     "output_type": "execute_result"
    }
   ],
   "source": [
    "1getResidues(Peptide(\"C[Carb]TIDEK[+8.014199]\", Int32(2), default_mods), default_mods)"
   ]
  },
  {
   "cell_type": "code",
   "execution_count": 5,
   "id": "9335960c-38a9-4546-8583-e404dccda081",
   "metadata": {
    "tags": []
   },
   "outputs": [
    {
     "data": {
      "text/plain": [
       "6-element Vector{Frag}:\n",
       " Frag(1, 'b', 375.16968f0, 0)\n",
       " Frag(2, 'b', 245.60196f0, 0)\n",
       " Frag(1, 'b', 619.2392f0, 0)\n",
       " Frag(2, 'b', 188.08849f0, 0)\n",
       " Frag(1, 'b', 490.19662f0, 0)\n",
       " Frag(2, 'b', 310.12323f0, 0)"
      ]
     },
     "execution_count": 5,
     "metadata": {},
     "output_type": "execute_result"
    }
   ],
   "source": [
    "frag!(Peptide(\"C[Carb]TIDEK[+8.014199]\", Int32(2), default_mods), frags, default_mods)"
   ]
  },
  {
   "cell_type": "code",
   "execution_count": null,
   "id": "a6bb5de3-bf62-4fa2-8954-5195e42d97d6",
   "metadata": {
    "tags": []
   },
   "outputs": [],
   "source": [
    "reverse(frags)"
   ]
  },
  {
   "cell_type": "code",
   "execution_count": null,
   "id": "9c6329c1-5d24-4f7e-b852-a31212051b0c",
   "metadata": {
    "tags": []
   },
   "outputs": [],
   "source": [
    "frags"
   ]
  },
  {
   "cell_type": "code",
   "execution_count": null,
   "id": "dec3cffa-9ced-4feb-a93b-de4d97df7ab5",
   "metadata": {
    "tags": []
   },
   "outputs": [],
   "source": [
    "string(\"Test\", sequence, 10, \"bob\")"
   ]
  },
  {
   "cell_type": "code",
   "execution_count": null,
   "id": "f0521c89-9d3c-4441-b7ae-8839e1765cc8",
   "metadata": {
    "tags": []
   },
   "outputs": [],
   "source": [
    "throw(ErrorException(\"test, %s\", sequence))"
   ]
  },
  {
   "cell_type": "code",
   "execution_count": null,
   "id": "800a2d9b-d0e1-499a-a5e7-469425adc14f",
   "metadata": {
    "tags": []
   },
   "outputs": [],
   "source": [
    "frags[1].ion_type"
   ]
  },
  {
   "cell_type": "code",
   "execution_count": null,
   "id": "3636cd4c-b601-4426-b37c-183b25e3d7fb",
   "metadata": {
    "tags": []
   },
   "outputs": [],
   "source": [
    "a = match(r\"([a-z])\\(([0-9]|[A-Z]).([0-9]|[A-Z]),([0-9]|[A-Z]).([0-9]|[A-Z])\\)\", x[1])"
   ]
  },
  {
   "cell_type": "code",
   "execution_count": null,
   "id": "c16713ce-5476-43be-adec-a6db101f4452",
   "metadata": {
    "tags": []
   },
   "outputs": [],
   "source": [
    "a[1]"
   ]
  },
  {
   "cell_type": "code",
   "execution_count": null,
   "id": "8889211c-442d-4190-8e61-0487e6fbd069",
   "metadata": {
    "tags": []
   },
   "outputs": [],
   "source": [
    "parse(Int16, a[2])"
   ]
  },
  {
   "cell_type": "code",
   "execution_count": null,
   "id": "444c8fed-3cb7-46d8-ade0-6da811de04a7",
   "metadata": {
    "tags": []
   },
   "outputs": [],
   "source": [
    "a[2]"
   ]
  },
  {
   "cell_type": "code",
   "execution_count": null,
   "id": "49e5439f-7967-4a2b-af58-ee52280f7f5e",
   "metadata": {
    "tags": []
   },
   "outputs": [],
   "source": [
    "for r in eachindex(sequence)\n",
    "    println(sequence[1:r])\n",
    "end"
   ]
  },
  {
   "cell_type": "code",
   "execution_count": null,
   "id": "76b50ffe-cd4c-44ce-a9d2-b6294a1fe7ae",
   "metadata": {},
   "outputs": [],
   "source": [
    "test_str = \"C[Carb]TIDEK[+8.014199]\"\n",
    "a = findall(r\"([A-Z]\\[.*?\\]|[A-Z])\", test_str)"
   ]
  },
  {
   "cell_type": "code",
   "execution_count": null,
   "id": "56d94105-47fc-4d1b-bdbe-6569717a85b1",
   "metadata": {
    "tags": []
   },
   "outputs": [],
   "source": [
    "a = match(r\"([A-Z]\\[(.*?)\\]|[A-Z])\", sequence)"
   ]
  },
  {
   "cell_type": "code",
   "execution_count": null,
   "id": "599dc1f4-39a9-407a-89c4-78f749626c10",
   "metadata": {
    "tags": []
   },
   "outputs": [],
   "source": [
    "match"
   ]
  },
  {
   "cell_type": "code",
   "execution_count": null,
   "id": "34d5f2e8-ac74-45f9-91b8-9cc5af114dd0",
   "metadata": {
    "tags": []
   },
   "outputs": [],
   "source": [
    "a"
   ]
  },
  {
   "cell_type": "code",
   "execution_count": null,
   "id": "9339422f-b16b-4d7d-a3f8-d7e7101f21a5",
   "metadata": {
    "tags": []
   },
   "outputs": [],
   "source": [
    "a = map(mod -> sequence[mod], findall(r\"([A-Z]\\[(.*?)\\]|[A-Z])\", sequence))"
   ]
  },
  {
   "cell_type": "code",
   "execution_count": null,
   "id": "4f3d3ea5-a3e7-4e7f-971b-343295485a9b",
   "metadata": {
    "tags": []
   },
   "outputs": [],
   "source": [
    "a[1]"
   ]
  },
  {
   "cell_type": "code",
   "execution_count": null,
   "id": "ecf9b61c-58a8-4f48-b7b5-59a1646a5197",
   "metadata": {
    "tags": []
   },
   "outputs": [],
   "source": [
    "a[2]"
   ]
  },
  {
   "cell_type": "code",
   "execution_count": null,
   "id": "a4a69da6-597b-4b72-a33f-695e9f464b3e",
   "metadata": {
    "tags": []
   },
   "outputs": [],
   "source": [
    "Residue(\"K[+8.014199]\", default_mods)"
   ]
  },
  {
   "cell_type": "code",
   "execution_count": null,
   "id": "a85d8adb-2628-4732-851d-bb22e0479c1a",
   "metadata": {},
   "outputs": [],
   "source": [
    "for i in 1:10\n",
    "    print(i)\n",
    "end"
   ]
  },
  {
   "cell_type": "code",
   "execution_count": null,
   "id": "a63087ee-0a1b-4fc3-91a1-32f911d52a95",
   "metadata": {},
   "outputs": [],
   "source": [
    "'y'∈(\"yp\")"
   ]
  },
  {
   "cell_type": "code",
   "execution_count": null,
   "id": "34218adc-f100-40b3-9485-779c70219d46",
   "metadata": {},
   "outputs": [],
   "source": [
    "(AA_to_mass['P'] + AA_to_mass['E'] + AA_to_mass['P'] +\n",
    "AA_to_mass['T'] + AA_to_mass['I'] + AA_to_mass['D'] +\n",
    "AA_to_mass['E'] + proton*2 + H2O)/2"
   ]
  },
  {
   "cell_type": "code",
   "execution_count": null,
   "id": "d90310f6-f283-49b2-892c-72f6a2bb56dd",
   "metadata": {},
   "outputs": [],
   "source": [
    "324.155397 - (AA_to_mass['P'] + AA_to_mass['E'] + AA_to_mass['P'] + proton)"
   ]
  },
  {
   "cell_type": "code",
   "execution_count": null,
   "id": "7f7e856d-95bb-44ea-87bf-98d6552770c5",
   "metadata": {},
   "outputs": [],
   "source": [
    "const H2O = Float32(18.010565)"
   ]
  },
  {
   "cell_type": "code",
   "execution_count": null,
   "id": "ac009c01-3241-4857-9de5-60d2a05732d5",
   "metadata": {},
   "outputs": [],
   "source": [
    "477.219119 - (AA_to_mass['T'] + AA_to_mass['I'] + AA_to_mass['D'] +  AA_to_mass['E'] + H2O + proton)\n",
    "\n",
    "\n"
   ]
  },
  {
   "cell_type": "code",
   "execution_count": null,
   "id": "307b8748-d1ad-4a79-b2ba-a1a65df18432",
   "metadata": {},
   "outputs": [],
   "source": [
    "239.113198 - (AA_to_mass['T'] + AA_to_mass['I'] + AA_to_mass['D'] +  AA_to_mass['E'] + H2O + proton + proton)/2\n"
   ]
  },
  {
   "cell_type": "code",
   "execution_count": null,
   "id": "faff6aab-40e5-44cb-aad5-298463544ed8",
   "metadata": {},
   "outputs": [],
   "source": [
    "[test_str[ind] for ind in a]"
   ]
  },
  {
   "cell_type": "code",
   "execution_count": null,
   "id": "49453d29-edd5-4d7f-9234-a86cf53fcb76",
   "metadata": {},
   "outputs": [],
   "source": [
    "Mod(\"K\", Float32(100.0))"
   ]
  },
  {
   "cell_type": "code",
   "execution_count": null,
   "id": "eecb5605-6792-409a-a660-ef989a8d285f",
   "metadata": {},
   "outputs": [],
   "source": [
    "Residue(\"K\", Float32(8.014199))"
   ]
  },
  {
   "cell_type": "code",
   "execution_count": null,
   "id": "a9c71378-de2d-423f-a149-a8c82e886b4a",
   "metadata": {},
   "outputs": [],
   "source": [
    "typeof(AA(\"K\"[1]))"
   ]
  },
  {
   "cell_type": "code",
   "execution_count": null,
   "id": "e3f0a3d7-80c6-4786-b992-5aa46fd08b64",
   "metadata": {},
   "outputs": [],
   "source": [
    "Residue(AA(\"K\"[1]), Mod(\"K\")) "
   ]
  },
  {
   "cell_type": "code",
   "execution_count": null,
   "id": "32e23035-e545-4160-828a-0e7564c2be6d",
   "metadata": {},
   "outputs": [],
   "source": []
  },
  {
   "cell_type": "code",
   "execution_count": null,
   "id": "16e0dc74-f4ae-444a-b427-90495ff6fa42",
   "metadata": {},
   "outputs": [],
   "source": [
    "Residue('A', convert(Float32, 10.0))"
   ]
  },
  {
   "cell_type": "code",
   "execution_count": null,
   "id": "ed7f2cdd-f472-4626-9051-044909b2081a",
   "metadata": {},
   "outputs": [],
   "source": [
    "join([1, 2])"
   ]
  },
  {
   "cell_type": "code",
   "execution_count": null,
   "id": "96e5ed93-fec2-4ae9-b3e8-4e5453fe17fe",
   "metadata": {},
   "outputs": [],
   "source": [
    "Mod(\"K\")"
   ]
  },
  {
   "cell_type": "code",
   "execution_count": null,
   "id": "9ba4533f-c629-4c9b-8009-f2f1f75e867b",
   "metadata": {},
   "outputs": [],
   "source": [
    "Residue('K')"
   ]
  },
  {
   "cell_type": "code",
   "execution_count": null,
   "id": "a20f3988-0779-4f28-a767-da68e0a15ba0",
   "metadata": {},
   "outputs": [],
   "source": [
    "getName(Mod(\"L\"))"
   ]
  },
  {
   "cell_type": "code",
   "execution_count": null,
   "id": "e5aedfce-1644-4437-9b96-8ac52a2da360",
   "metadata": {},
   "outputs": [],
   "source": [
    "getMass(Mod(\"L\"))"
   ]
  },
  {
   "cell_type": "code",
   "execution_count": null,
   "id": "182e60f2-4907-49a5-8be8-67ac3eb1e1f7",
   "metadata": {},
   "outputs": [],
   "source": [
    "Residue(AA(\"L\"[1]), Mod(\"L\"))"
   ]
  },
  {
   "cell_type": "code",
   "execution_count": null,
   "id": "cba0a6cb-cd2d-401d-a3a3-cedbcc47bbf3",
   "metadata": {},
   "outputs": [],
   "source": [
    "AA(\"L\"[1])"
   ]
  },
  {
   "cell_type": "code",
   "execution_count": null,
   "id": "7654cae8-d7f9-4892-af6a-e26a05fd2bd0",
   "metadata": {},
   "outputs": [],
   "source": [
    "Residue(\"L\")"
   ]
  },
  {
   "cell_type": "code",
   "execution_count": null,
   "id": "8a35d9c2-4452-43a8-821d-ec3a356ffa00",
   "metadata": {},
   "outputs": [],
   "source": [
    "Residue('K', convert(Float32, 10.0))"
   ]
  },
  {
   "cell_type": "code",
   "execution_count": null,
   "id": "3063a7f8-13d4-4253-a2af-7ef3f8be5670",
   "metadata": {},
   "outputs": [],
   "source": [
    "#Residue('A')\n",
    "Residue(aa::Char) = Residue(AA(aa))\n",
    "\n",
    "#Residue('C', 'Carb', 57.021464)\n",
    "Residue(aa::AA, mod_string::String, mod_mass::Float32) = Residue(aa, getMass(aa)+mod_mass, mod_string)\n",
    "\n",
    "Residue(aa::AA, mod::Mod) = Residue(aa, getName(mod), getMass(mod))\n",
    "\n",
    "Residue(residue::String, mods_dict::Dict{String, Float32}) = Residue(AA(residue[1]), Mod(residue, mods_dict))\n",
    "\n",
    "Residue(residue::String) = Residue(residue::String, default_mods)\n",
    "\n",
    "function Residue(residue::String, mod_mass::Float32)\n",
    "    Residue(AA(residue[1]), \n",
    "            join[residue[1],\"[+\", string(mod_mass),\"]\"],\n",
    "            mod_mass)\n",
    "end"
   ]
  },
  {
   "cell_type": "code",
   "execution_count": null,
   "id": "331b042f-5aa5-4222-adb4-bcc13bc76cb5",
   "metadata": {},
   "outputs": [],
   "source": [
    "function Residue(residue::String, mods_dict::Dict{String, Float32})\n",
    "    Residue(AA(residue[1]), Mod(residue, mods_dict))\n",
    "end"
   ]
  },
  {
   "cell_type": "code",
   "execution_count": null,
   "id": "da41b190-a707-48b8-af7d-bc3ea94bd8b0",
   "metadata": {},
   "outputs": [],
   "source": [
    "Residue(\"K\", convert(Float32, 8.0))"
   ]
  },
  {
   "cell_type": "code",
   "execution_count": null,
   "id": "4fe5dc36-8c23-40eb-9593-e8d92c3f084d",
   "metadata": {},
   "outputs": [],
   "source": [
    "float(8.0)"
   ]
  },
  {
   "cell_type": "code",
   "execution_count": null,
   "id": "78ff2ced-d840-4ec7-a274-c1a35fd0fd0c",
   "metadata": {},
   "outputs": [],
   "source": [
    "#export(AA)"
   ]
  },
  {
   "cell_type": "code",
   "execution_count": null,
   "id": "1c9685e8-67e6-4a54-b90a-2d8d5c9f0a0a",
   "metadata": {},
   "outputs": [],
   "source": [
    "const default_mods = \n",
    "Dict{String, Float32}(\n",
    "    \"Carb\" => 57.021464\n",
    ")"
   ]
  },
  {
   "cell_type": "code",
   "execution_count": null,
   "id": "267f21fc-1351-48f7-97fc-030f5f121038",
   "metadata": {},
   "outputs": [],
   "source": [
    "struct AA \n",
    "    aa::Char\n",
    "    mass::Float32\n",
    "    #Constructor for amino acid. Restric inputs\n",
    "    #to valid amino acid symbols and assign correct mass\n",
    "    function AA(aa::Char)\n",
    "        m = try\n",
    "            AA_to_mass[aa]\n",
    "        catch\n",
    "            throw(ErrorException(\"The character $aa cannot be interpreted as an amino acid!\"))\n",
    "        end\n",
    "        return new(aa, m)\n",
    "    end\n",
    "end\n",
    "\n",
    "#Getter methods\n",
    "getMass(aa::AA) = aa.mass\n",
    "getAA(aa::AA) = aa.aa"
   ]
  },
  {
   "cell_type": "code",
   "execution_count": null,
   "id": "730f0da0-509f-4b84-ba61-b75238c00189",
   "metadata": {},
   "outputs": [],
   "source": [
    "AA('Z')"
   ]
  },
  {
   "cell_type": "code",
   "execution_count": null,
   "id": "143eddac-6292-44af-bef8-b2d772de1a98",
   "metadata": {},
   "outputs": [],
   "source": [
    "AA('A')"
   ]
  },
  {
   "cell_type": "code",
   "execution_count": null,
   "id": "6d24f088-f4da-4dd2-ad87-a95cc5d7cb81",
   "metadata": {},
   "outputs": [],
   "source": [
    "struct Mod\n",
    "    name::String\n",
    "    mass::Float32\n",
    "\n",
    "    function Mod(mod::String, mods_dict::Dict{String, Float32})\n",
    "        m = match(r\"^[A-Z]\\[(.*)\\]$\", mod)\n",
    "        println(\"Entered Mod\")\n",
    "        try\n",
    "            if m == nothing\n",
    "                new(\n",
    "                    mod,\n",
    "                    0.0\n",
    "                )\n",
    "            elseif startswith(m[1], \"+\")\n",
    "                new(\n",
    "                    mod,                    #\"K[+8.014199]\"\n",
    "                    parse(Float32, m[1][2:end]) #8.014199\n",
    "                    )\n",
    "            else \n",
    "                new(\n",
    "                    mod,                #getAA(\"C[Carb]\")\n",
    "                    mods_dict[m[1]]         #57.021464\n",
    "                    )\n",
    "            end\n",
    "        catch\n",
    "            throw(ErrorException(\"$m could not be parsed as given\"))\n",
    "        end \n",
    "    end\n",
    "end\n",
    "\n",
    "getMass(mod::Mod) = mod.mass\n",
    "getName(mod::Mod) = mod.name\n",
    "Mod(mod::String) = Mod(mod, default_mods)\n",
    "Mod() = Mod(\"\", Dict{String, Float32}())"
   ]
  },
  {
   "cell_type": "code",
   "execution_count": null,
   "id": "a601199d-9880-448c-8be0-7eda005f80f5",
   "metadata": {},
   "outputs": [],
   "source": [
    "Mod(\"K\")"
   ]
  },
  {
   "cell_type": "code",
   "execution_count": null,
   "id": "62bd21cc-6192-464f-905d-823885a0ba36",
   "metadata": {},
   "outputs": [],
   "source": [
    "Mod()"
   ]
  },
  {
   "cell_type": "code",
   "execution_count": null,
   "id": "bf80f2d4-9c62-419f-91b8-755c51c47b4e",
   "metadata": {},
   "outputs": [],
   "source": []
  },
  {
   "cell_type": "code",
   "execution_count": null,
   "id": "b1520c73-a589-4d7c-b7d5-bb773c912938",
   "metadata": {},
   "outputs": [],
   "source": [
    "join([\"A\",\"_\",string(8.0)])"
   ]
  },
  {
   "cell_type": "code",
   "execution_count": null,
   "id": "0ab4b833-54c4-47cd-b65f-586deb555e11",
   "metadata": {},
   "outputs": [],
   "source": [
    "Mod(\"C\", default_mods)"
   ]
  },
  {
   "cell_type": "code",
   "execution_count": null,
   "id": "a29710e9-1a47-443e-920e-e78a69c35269",
   "metadata": {},
   "outputs": [],
   "source": [
    "struct Residue\n",
    "    amino_acid::AA\n",
    "    mass::Float32\n",
    "    mod::String\n",
    "end\n",
    "\n",
    "function Residue(aa::Char)\n",
    "    AA_ = AA(aa)\n",
    "    Residue(AA_, getMass(AA_), string(aa))\n",
    "end"
   ]
  },
  {
   "cell_type": "code",
   "execution_count": null,
   "id": "1e6bad28-c233-4b39-9944-7594d0a2cfab",
   "metadata": {},
   "outputs": [],
   "source": [
    "regext =  r\"^[A-Z]\\[(.*)\\]$\""
   ]
  },
  {
   "cell_type": "code",
   "execution_count": null,
   "id": "d4c7e782-0519-4e01-b6e5-b6a2e7682391",
   "metadata": {},
   "outputs": [],
   "source": [
    "m = match(regext, \"L\")\n",
    "mk = match(regext, \"K[+8.014199]\")\n",
    "mc = match(regext, \"C[carb]\")\n",
    "mk = match(regext, \"K[+8.014199]\")"
   ]
  },
  {
   "cell_type": "code",
   "execution_count": null,
   "id": "e8ecd004-2c18-4d96-96e5-5c55ce44faee",
   "metadata": {},
   "outputs": [],
   "source": [
    "m==nothing"
   ]
  },
  {
   "cell_type": "code",
   "execution_count": null,
   "id": "a87dd953-36df-43da-9235-78cdbdde1423",
   "metadata": {},
   "outputs": [],
   "source": [
    "mk"
   ]
  },
  {
   "cell_type": "code",
   "execution_count": null,
   "id": "6bc589d6-85ac-4f3a-b4c7-ee2e9635aaf5",
   "metadata": {},
   "outputs": [],
   "source": [
    "parse(Float32, mk[1][2:end])"
   ]
  },
  {
   "cell_type": "code",
   "execution_count": null,
   "id": "56a8f172-c5e3-499c-a282-d0e3bf32fdbc",
   "metadata": {},
   "outputs": [],
   "source": [
    "startswith(mc[1], \"+\")"
   ]
  },
  {
   "cell_type": "code",
   "execution_count": null,
   "id": "da8f1c81-df60-426d-8bba-319d3deea5ab",
   "metadata": {},
   "outputs": [],
   "source": [
    "startswith(mk[1], \"+\")"
   ]
  },
  {
   "cell_type": "code",
   "execution_count": null,
   "id": "f9563196-c5dc-462f-b267-5e3d365c7e24",
   "metadata": {},
   "outputs": [],
   "source": [
    "join([\"[\",\"ten\", \"t\"])"
   ]
  },
  {
   "cell_type": "code",
   "execution_count": null,
   "id": "995b3843-5ddb-48e7-8b35-6a84d519cf19",
   "metadata": {},
   "outputs": [],
   "source": [
    "Residue('A')"
   ]
  },
  {
   "cell_type": "code",
   "execution_count": null,
   "id": "d49a3388-d95f-4f29-9794-6fbbfe63c5f1",
   "metadata": {},
   "outputs": [],
   "source": [
    "test = AA('A')"
   ]
  },
  {
   "cell_type": "code",
   "execution_count": null,
   "id": "d82f4279-227d-4f7c-a7f0-7d29282f67d6",
   "metadata": {},
   "outputs": [],
   "source": [
    "getMass(test)"
   ]
  },
  {
   "cell_type": "code",
   "execution_count": null,
   "id": "ea0c5aae-fba9-48bb-9899-c4e6949d25de",
   "metadata": {},
   "outputs": [],
   "source": [
    "test = AA('A')"
   ]
  },
  {
   "cell_type": "code",
   "execution_count": null,
   "id": "da14f8f1-ec24-42ad-8927-6c3ca6057862",
   "metadata": {},
   "outputs": [],
   "source": [
    "test.mass"
   ]
  },
  {
   "cell_type": "code",
   "execution_count": null,
   "id": "c62c9a98-cae9-4a8d-8287-f797a3a00340",
   "metadata": {},
   "outputs": [],
   "source": []
  }
 ],
 "metadata": {
  "kernelspec": {
   "display_name": "Julia 1.8.5",
   "language": "julia",
   "name": "julia-1.8"
  },
  "language_info": {
   "file_extension": ".jl",
   "mimetype": "application/julia",
   "name": "julia",
   "version": "1.8.5"
  }
 },
 "nbformat": 4,
 "nbformat_minor": 5
}
